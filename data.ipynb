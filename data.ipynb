from selenium import webdriver
from time import sleep

browser = webdriver.Chrome()
browser.get('https://www.myntra.com/tshirts-for-men?extra_search_param=isautosuggestentry%3atrue%3a%3aid%3a2297-tshirts-for-men')

EntireData = {
    'BrandName': [],
    'ProductName': [],
    'ProductMRP': [],
    'ProductSellingPrice': [],
    'ProductRating': [],
    'ProductRatingCount': []
}

# Loop through product cards
products = browser.find_elements('xpath', "//li[contains(@class,'product-base')]")

for product in products:
    # Brand Name
    try:
        brand = product.find_element('xpath', ".//h3[contains(@class, 'product-brand')]")
        EntireData['BrandName'].append(brand.text)
    except:
        EntireData['BrandName'].append('')

    # Product Name
    try:
        pname = product.find_element('xpath', ".//h4[contains(@class, 'product-product')]")
        EntireData['ProductName'].append(pname.text)
    except:
        EntireData['ProductName'].append('')

    # Product MRP
    try:
        mrp = product.find_element('xpath', ".//span[contains(@class,'product-strike')]")
        EntireData['ProductMRP'].append(mrp.text)
    except:
        EntireData['ProductMRP'].append('0')

    # Product Selling Price
    try:
        selling_price = product.find_element('xpath', ".//span[contains(@class,'product-discountedPrice')]")
        EntireData['ProductSellingPrice'].append(selling_price.text)
    except:
        EntireData['ProductSellingPrice'].append('0')

    # Product Rating
    try:
        rating = product.find_element('xpath', ".//div[contains(@class,'product-ratingsContainer')]")
        EntireData['ProductRating'].append(rating.text)
    except:
        EntireData['ProductRating'].append('0')

    # Product Rating Count
    try:
        rating_count = product.find_element('xpath', ".//div[contains(@class,'product-ratingsCount')]")
        EntireData['ProductRatingCount'].append(rating_count.text)
    except:
        EntireData['ProductRatingCount'].append('0')


# Check if all lists are equal in length
print("BrandName:", len(EntireData['BrandName']))
print("ProductName:", len(EntireData['ProductName']))
print("ProductMRP:", len(EntireData['ProductMRP']))
print("ProductSellingPrice:", len(EntireData['ProductSellingPrice']))
print("ProductRating:", len(EntireData['ProductRating']))
print("ProductRatingCount:", len(EntireData['ProductRatingCount']))

